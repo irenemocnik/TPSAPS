{
 "cells": [
  {
   "cell_type": "markdown",
   "id": "258a136c-c6eb-4453-a98d-a086654177b1",
   "metadata": {},
   "source": [
    "# Tarea Semanal 5:  Estimación espectral: Ancho de banda de señales reales#"
   ]
  },
  {
   "cell_type": "markdown",
   "id": "fcb547bb-188c-4da3-8d92-31657e701340",
   "metadata": {},
   "source": [
    "## Descripción ##\n"
   ]
  },
  {
   "cell_type": "markdown",
   "id": "6272a76d-4ad0-45b6-a1ba-27ee7ab4ef3b",
   "metadata": {},
   "source": [
    "En la siguiente tarea, se busca analizar la informaciñon espectral en señales registradas de diversas fuentes. Para abordar el análisis, se empleó el método de Welch para estimar la densidad espectral de potencia, con el obtejito de identificar características de frecuencia relevantes y calcular el ancho de banda efectivo para la señal elegida.\n",
    "En este caso, se estudió una señal de pletismografía (PPG), se trata de una señal registrada en reposo, que corresponde a la varaicion del volumen sanguíneo mediada ópticamente en un dedo. Dicha señal tposee una periodicidad (similar a un ECG), pero su forma espectral difiere."
   ]
  },
  {
   "cell_type": "markdown",
   "id": "1de8cfc8-3b6e-46c9-8722-67d2f750fa14",
   "metadata": {},
   "source": [
    "## Metodología "
   ]
  },
  {
   "cell_type": "markdown",
   "id": "9bc28df4-0a51-4547-8a04-151379741184",
   "metadata": {},
   "source": [
    "Para realizar la estimación espectral (obtención de a PSD), se utilizó el método de Welch. Este método mejora la estimación espectral respecto del periodograma ventaneado, puesto que reduce significativamente su varianza al costo de un empeoramiento de la resolución espectral e incremento del costo computacional. Dicho método consiste en una estimación mediante el promediado de múltiples periodogramas calculados sobre segmentos solapados de la señal. "
   ]
  },
  {
   "cell_type": "markdown",
   "id": "df9f351f-b897-49df-9598-bb0c7c7a87cb",
   "metadata": {},
   "source": [
    "### Validez teórica"
   ]
  },
  {
   "cell_type": "markdown",
   "id": "7e0fecf9-0bdc-47ab-a96a-ded4250780d2",
   "metadata": {},
   "source": [
    "El método de Welch consiste en un promedio de periodogramas, es decir que estima la densidad espectral de potencia basándose en el Teorema de Parseval, que establece que la energía total de una señal es la misma si se calcula en el dominio del tiempo o en el dominio de la frecuencia.\n",
    "\n",
    "$ \\sum_{n=0}^{N-1} |x[n]|^2 = \\frac{1}{N} \\sum_{k=0}^{N-1} |X[k]|^2 $\n",
    "\n",
    "donde $ x[n] $ es la señal en el tiempo y $X[k]$ es su Transformada Discreta de Fourier (DFT).\n",
    "\n",
    "Para verificar el teorema de Parseval, se aplico la fft al modulo de la señal del PPG elevada al cuadrado, luego se comparó la sumatoria de dicho resultado en el intervalo total de tiempo con el del modulo del cuadrado de la señal temporal."
   ]
  },
  {
   "cell_type": "code",
   "execution_count": 4,
   "id": "ab2b763e-da1e-489c-ab66-f38790903877",
   "metadata": {},
   "outputs": [
    {
     "name": "stdout",
     "output_type": "stream",
     "text": [
      "EN Tiempo = 12435132275.0\n",
      "EN FRECUENCIA = 12435132275.0\n",
      "RESTA = 0.0\n"
     ]
    }
   ],
   "source": [
    "import numpy as np\n",
    "from scipy import signal as sig\n",
    "\n",
    "import matplotlib.pyplot as plt\n",
    "\n",
    "#%%\n",
    "\n",
    "####################################\n",
    "# Lectura de pletismografía (PPG)  #\n",
    "####################################\n",
    "\n",
    "fs_ppg = 400 # Hz\n",
    "\n",
    "##################\n",
    "## PPG sin ruido\n",
    "##################\n",
    "\n",
    "ppgsinruido = np.load('ppg_sin_ruido.npy')\n",
    "\n",
    "ppgsinruido = ppgsinruido.ravel() #aplana un array multidimensional a una sola dimensión.\n",
    "\n",
    "#%%Corroboramos teo de parseval\n",
    "\n",
    "energiaTiempo = np.sum(ppgsinruido**2)\n",
    "X = np.fft.fft(ppgsinruido)\n",
    "energiaFreq = np.sum(np.abs(X)**2) / N\n",
    "\n",
    "print(\"EN Tiempo =\", energiaTiempo)\n",
    "print(\"EN FRECUENCIA =\", energiaFreq)\n",
    "print(\"RESTA =\", energiaTiempo - energiaFreq)"
   ]
  },
  {
   "cell_type": "markdown",
   "id": "018d6499-e83d-48d4-9f10-20846920db5f",
   "metadata": {},
   "source": [
    "En el método de Welch, se obtiene la PSD realizando un promedio de periodogramas en segmentos del intervalo total. En cada uno de los periodogramas se obtiene una estimación de la energía espectral a través de la DFT, es decir que se aplica el Teorema de Parseval. Esto sugiere que el método de Welch es altamente robusto, ya que utiliza un fundamento teórico confiable, verificable y coherente a nivel conceptual."
   ]
  },
  {
   "cell_type": "markdown",
   "id": "2422153f-730f-41b2-8267-105454702ab4",
   "metadata": {},
   "source": [
    "### Procedimiento Welch"
   ]
  },
  {
   "cell_type": "markdown",
   "id": "2e92193d-57fa-44e8-9856-067988214bc5",
   "metadata": {},
   "source": [
    "El procedimiento del método consiste en:\n",
    "1. Segmentación: la señal se divide en segmentos de igual longitud, que se solapan parcialmente, mejorando la eficiencia espectral y reduciendo sesgo en los bordes.\n",
    "2. Ventaneo: A cada segmento se le aplica una ventana, que atenua los extremos del intervalo y reduce el efecto del leakage espectral.\n",
    "3. Calculo del periodograma: se calcula el periodograma ventaneado para cada segmento, es decir que se obtiene la transformada de Fourier en cada segmento y se estima la PSD elevando al cuadrado su módulo.\n",
    "4. Promediado: Finalmente, se lleva a cabo un promedio de todos los periodogramas, esto reduce la varianza estadística a costa de la disminuición de la resolución espectral.\n",
    "\n",
    "El solapamiento entre ventajas permite incluir más informacióm de la señal sin aumentar la longitud de cada segmento. Esto además compensa la pérdida de información que se produce por utilizar ventanas que atenuan la información en los bordes de cada intervalo."
   ]
  },
  {
   "cell_type": "markdown",
   "id": "7a592e2e-e6a4-4716-8f28-490aa1ce752e",
   "metadata": {},
   "source": [
    "### Implementación del método"
   ]
  },
  {
   "cell_type": "code",
   "execution_count": 3,
   "id": "d4b3c92b-1458-4987-84fe-c9a3535dd7c5",
   "metadata": {},
   "outputs": [
    {
     "name": "stdout",
     "output_type": "stream",
     "text": [
      "Frecuencia 95% (sin ruido): 0.0\n"
     ]
    }
   ],
   "source": [
    "\n",
    "import numpy as np\n",
    "from scipy import signal as sig\n",
    "\n",
    "import matplotlib.pyplot as plt\n",
    "    \n",
    "\n",
    "####################################\n",
    "# Lectura de pletismografía (PPG)  #\n",
    "####################################\n",
    "\n",
    "fs_ppg = 400 # Hz\n",
    "\n",
    "##################\n",
    "## PPG sin ruido\n",
    "##################\n",
    "\n",
    "ppgsinruido = np.load('ppg_sin_ruido.npy')\n",
    "\n",
    "ppgsinruido = ppgsinruido.ravel() #aplana un array multidimensional a una sola dimensión.\n",
    "ppgruido = ppgruido.ravel()\n",
    "\n",
    "ppgvar = np.var(ppgsinruido) #varianza\n",
    "#ppgvar = np.var(ppgruido)\n",
    "\n",
    "\n",
    "N = len(ppgsinruido) \n",
    "nperseg = N // 20      #  largo total/100\n",
    "noverlap = nperseg // 2     # solapo 50%\n",
    "#el sesgo disminuye a medida que se incrementa la longitud del segmento\n",
    "#la varianza se reduce cuando se incrementa la cantidad de segmentos\n",
    "#el solapamiento reduce la independencia entre los segmentos.\n",
    "\n",
    "#la eleccion de ventana trae un tradeoff entre el ancho del lobulo principaly la altura de los lobulos laterales.\n",
    "#mayor ancho del lobulo = lobulos laterales bajos, = poca varianza y baja resolucion.\n",
    "\n",
    "#los lobulos laterales determinan el rango dinamico, el ratio entre la amplitud mayor y la menor que podemos distinguir.\n",
    "\n",
    "f_ppg, Pxxsinruido = sig.welch(ppgsinruido, fs=fs_ppg, window='hamming', nperseg=nperseg, noverlap=noverlap, detrend='linear', scaling='density')\n",
    "\n",
    "Pxxsinruido_normalizado = Pxxsinruido / np.var(ppgsinruido)\n",
    "\n",
    "#hamming:reduce lóbulos laterales, mejora contraste).\n",
    "#normalizamos dividiendo por la varianza, esto impone una escala estandar.\n",
    "\n",
    "\n",
    "area_acum_sinruido = np.cumsum(Pxxsinruido_normalizado)\n",
    "bin95_sinruido = np.where(area_acum_sinruido >= 0.95 * area_acum_sinruido)[0][0]\n",
    "f95_sinruido = f_ppg[bin95_sinruido]\n",
    "print(\"Frecuencia 95% (sin ruido):\", f95_sinruido)\n"
   ]
  },
  {
   "cell_type": "markdown",
   "id": "1fc5ff0b-0fd9-4f5a-88cd-8be7faf9d834",
   "metadata": {},
   "source": []
  }
 ],
 "metadata": {
  "kernelspec": {
   "display_name": "Python 3 (ipykernel)",
   "language": "python",
   "name": "python3"
  },
  "language_info": {
   "codemirror_mode": {
    "name": "ipython",
    "version": 3
   },
   "file_extension": ".py",
   "mimetype": "text/x-python",
   "name": "python",
   "nbconvert_exporter": "python",
   "pygments_lexer": "ipython3",
   "version": "3.13.2"
  }
 },
 "nbformat": 4,
 "nbformat_minor": 5
}
